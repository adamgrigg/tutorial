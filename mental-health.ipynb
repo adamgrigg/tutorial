{
 "cells": [
  {
   "cell_type": "markdown",
   "id": "12443761",
   "metadata": {},
   "source": [
    "\n",
    "\n",
    "The two primary datasets we will be working with are both from the CDC: a survey on vaccination confidence, and a survey on depression and anxiety symptoms.\n",
    "\n",
    "\n",
    "\n",
    "\n",
    "Processing:"
   ]
  },
  {
   "cell_type": "code",
   "execution_count": null,
   "id": "886b8efa",
   "metadata": {},
   "outputs": [],
   "source": [
    "import pandas as pd\n",
    "import numpy as np"
   ]
  },
  {
   "cell_type": "code",
   "execution_count": null,
   "id": "c301a941",
   "metadata": {},
   "outputs": [],
   "source": []
  },
  {
   "cell_type": "code",
   "execution_count": null,
   "id": "7b863fee",
   "metadata": {},
   "outputs": [],
   "source": []
  },
  {
   "cell_type": "code",
   "execution_count": null,
   "id": "f89f1185",
   "metadata": {},
   "outputs": [],
   "source": []
  },
  {
   "cell_type": "code",
   "execution_count": null,
   "id": "549a567e",
   "metadata": {},
   "outputs": [],
   "source": []
  },
  {
   "cell_type": "code",
   "execution_count": null,
   "id": "2fa3b3e5",
   "metadata": {},
   "outputs": [],
   "source": []
  },
  {
   "cell_type": "markdown",
   "id": "25979197",
   "metadata": {},
   "source": [
    "Data on immunization confidence retrieved from\n",
    "https://data.cdc.gov/Vaccinations/National-Immunization-Survey-Adult-COVID-Module-NI/udsf-9v7b\n",
    "on 12/18/2021\n",
    "\n",
    "Data on symptoms of depression and anxiety retrieved from\n",
    "https://www.cdc.gov/nchs/covid19/pulse/mental-health.htm\n",
    "on 12/18/2021"
   ]
  }
 ],
 "metadata": {
  "kernelspec": {
   "display_name": "Python 3 (ipykernel)",
   "language": "python",
   "name": "python3"
  },
  "language_info": {
   "codemirror_mode": {
    "name": "ipython",
    "version": 3
   },
   "file_extension": ".py",
   "mimetype": "text/x-python",
   "name": "python",
   "nbconvert_exporter": "python",
   "pygments_lexer": "ipython3",
   "version": "3.9.7"
  }
 },
 "nbformat": 4,
 "nbformat_minor": 5
}
