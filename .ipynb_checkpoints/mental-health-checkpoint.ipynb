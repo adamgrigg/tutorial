{
 "cells": [
  {
   "cell_type": "markdown",
   "id": "38b20172",
   "metadata": {},
   "source": [
    "### Investigating  Possible  Interactions  Betwen  Vaccine  Hesitancy  and  Mental  Health  on  a  State  Level\n",
    "#### Adam Grigg\n",
    "\n",
    "This notebook is twofold in purpose: it is a tutorial intended to educate the reader on the basics of applied data science techniques and an application of those techniques to hopefully further our understanding of the psychological impact of a certain ongoing public health crisis. In particular, finding a possible link between vaccine hesitancy (or outright refusal) and depression or anxiety symptoms.\n",
    "The information found here may give us\n",
    "\n",
    "\n",
    "\n",
    "\n",
    "\n",
    "\n",
    "Processing:\n",
    "These datasets are laid out quite differently, so a substantial amount of work must be done in order to wring insights out of the combined information between them. This is something that everyone in data science must eventually do if they intend to work using multiple sources."
   ]
  },
  {
   "cell_type": "code",
   "execution_count": 1,
   "id": "2a7a5a32",
   "metadata": {},
   "outputs": [],
   "source": [
    "import pandas as pd\n",
    "import numpy as np\n",
    "import matplotlib.pyplot as plt\n",
    "from scipy import stats\n",
    "from scipy.stats import ttest_ind\n",
    "from scipy.stats import pearsonr\n",
    "from sklearn.model_selection import train_test_split\n",
    "from sklearn.linear_model import LinearRegression\n",
    "from sklearn import metrics\n",
    "from sklearn.preprocessing import PolynomialFeatures"
   ]
  },
  {
   "cell_type": "markdown",
   "id": "ae56891a",
   "metadata": {},
   "source": [
    "Now that we have our libraries sorted out, we can take in our raw data from CSV files."
   ]
  },
  {
   "cell_type": "code",
   "execution_count": 2,
   "id": "e57e8b67",
   "metadata": {},
   "outputs": [],
   "source": [
    "rawimm = pd.read_csv(\"data/immunization_survey.csv\")\n",
    "rawhealth = pd.read_csv(\"data/health_survey.csv\")"
   ]
  },
  {
   "cell_type": "code",
   "execution_count": 3,
   "id": "ce67a0cc",
   "metadata": {},
   "outputs": [
    {
     "data": {
      "text/html": [
       "<div>\n",
       "<style scoped>\n",
       "    .dataframe tbody tr th:only-of-type {\n",
       "        vertical-align: middle;\n",
       "    }\n",
       "\n",
       "    .dataframe tbody tr th {\n",
       "        vertical-align: top;\n",
       "    }\n",
       "\n",
       "    .dataframe thead th {\n",
       "        text-align: right;\n",
       "    }\n",
       "</style>\n",
       "<table border=\"1\" class=\"dataframe\">\n",
       "  <thead>\n",
       "    <tr style=\"text-align: right;\">\n",
       "      <th></th>\n",
       "      <th>Geography Type</th>\n",
       "      <th>Geography</th>\n",
       "      <th>Group Name</th>\n",
       "      <th>Group Category</th>\n",
       "      <th>Indicator Name</th>\n",
       "      <th>Indicator Category</th>\n",
       "      <th>Time Period</th>\n",
       "      <th>Time Type</th>\n",
       "      <th>Estimate (%)</th>\n",
       "      <th>95% CI (%)</th>\n",
       "      <th>Sample Size</th>\n",
       "      <th>Suppression Flag</th>\n",
       "    </tr>\n",
       "  </thead>\n",
       "  <tbody>\n",
       "    <tr>\n",
       "      <th>0</th>\n",
       "      <td>Jurisdictional Estimates</td>\n",
       "      <td>Maryland</td>\n",
       "      <td>Age</td>\n",
       "      <td>18 – 49 years</td>\n",
       "      <td>Vaccination uptake and intention</td>\n",
       "      <td>Probably or definitely will not get vaccinated</td>\n",
       "      <td>Apr 22 - May 29</td>\n",
       "      <td>Monthly</td>\n",
       "      <td>13.6</td>\n",
       "      <td>10.5-17.4</td>\n",
       "      <td>1122.0</td>\n",
       "      <td>0</td>\n",
       "    </tr>\n",
       "    <tr>\n",
       "      <th>1</th>\n",
       "      <td>Jurisdictional Estimates</td>\n",
       "      <td>New Hampshire</td>\n",
       "      <td>Age</td>\n",
       "      <td>18 – 49 years</td>\n",
       "      <td>Full Vaccination Status</td>\n",
       "      <td>Fully vaccinated with 1 or 2 doses</td>\n",
       "      <td>Apr 22 - May 29</td>\n",
       "      <td>Monthly</td>\n",
       "      <td>34.8</td>\n",
       "      <td>30.3-39.6</td>\n",
       "      <td>524.0</td>\n",
       "      <td>0</td>\n",
       "    </tr>\n",
       "    <tr>\n",
       "      <th>2</th>\n",
       "      <td>Jurisdictional Estimates</td>\n",
       "      <td>Michigan</td>\n",
       "      <td>Age</td>\n",
       "      <td>18 – 49 years</td>\n",
       "      <td>Unvaccinated</td>\n",
       "      <td>Unvaccinated</td>\n",
       "      <td>Apr 22 - May 29</td>\n",
       "      <td>Monthly</td>\n",
       "      <td>56.1</td>\n",
       "      <td>50.2-61.8</td>\n",
       "      <td>451.0</td>\n",
       "      <td>0</td>\n",
       "    </tr>\n",
       "    <tr>\n",
       "      <th>3</th>\n",
       "      <td>Jurisdictional Estimates</td>\n",
       "      <td>Arkansas</td>\n",
       "      <td>Age</td>\n",
       "      <td>18 – 49 years</td>\n",
       "      <td>Unvaccinated</td>\n",
       "      <td>Unvaccinated</td>\n",
       "      <td>Apr 22 - May 29</td>\n",
       "      <td>Monthly</td>\n",
       "      <td>66.2</td>\n",
       "      <td>61.9-70.3</td>\n",
       "      <td>639.0</td>\n",
       "      <td>0</td>\n",
       "    </tr>\n",
       "    <tr>\n",
       "      <th>4</th>\n",
       "      <td>Jurisdictional Estimates</td>\n",
       "      <td>Nevada</td>\n",
       "      <td>Age</td>\n",
       "      <td>18 – 49 years</td>\n",
       "      <td>Unvaccinated</td>\n",
       "      <td>Unvaccinated</td>\n",
       "      <td>Apr 22 - May 29</td>\n",
       "      <td>Monthly</td>\n",
       "      <td>56.7</td>\n",
       "      <td>49.6-63.6</td>\n",
       "      <td>304.0</td>\n",
       "      <td>0</td>\n",
       "    </tr>\n",
       "  </tbody>\n",
       "</table>\n",
       "</div>"
      ],
      "text/plain": [
       "             Geography Type      Geography Group Name Group Category  \\\n",
       "0  Jurisdictional Estimates       Maryland        Age  18 – 49 years   \n",
       "1  Jurisdictional Estimates  New Hampshire        Age  18 – 49 years   \n",
       "2  Jurisdictional Estimates       Michigan        Age  18 – 49 years   \n",
       "3  Jurisdictional Estimates       Arkansas        Age  18 – 49 years   \n",
       "4  Jurisdictional Estimates         Nevada        Age  18 – 49 years   \n",
       "\n",
       "                     Indicator Name  \\\n",
       "0  Vaccination uptake and intention   \n",
       "1           Full Vaccination Status   \n",
       "2                      Unvaccinated   \n",
       "3                      Unvaccinated   \n",
       "4                      Unvaccinated   \n",
       "\n",
       "                               Indicator Category      Time Period Time Type  \\\n",
       "0  Probably or definitely will not get vaccinated  Apr 22 - May 29   Monthly   \n",
       "1              Fully vaccinated with 1 or 2 doses  Apr 22 - May 29   Monthly   \n",
       "2                                    Unvaccinated  Apr 22 - May 29   Monthly   \n",
       "3                                    Unvaccinated  Apr 22 - May 29   Monthly   \n",
       "4                                    Unvaccinated  Apr 22 - May 29   Monthly   \n",
       "\n",
       "   Estimate (%) 95% CI (%)  Sample Size  Suppression Flag   \n",
       "0          13.6  10.5-17.4       1122.0                  0  \n",
       "1          34.8  30.3-39.6        524.0                  0  \n",
       "2          56.1  50.2-61.8        451.0                  0  \n",
       "3          66.2  61.9-70.3        639.0                  0  \n",
       "4          56.7  49.6-63.6        304.0                  0  "
      ]
     },
     "execution_count": 3,
     "metadata": {},
     "output_type": "execute_result"
    }
   ],
   "source": [
    "rawimm.head()"
   ]
  },
  {
   "cell_type": "code",
   "execution_count": 4,
   "id": "2fd5112d",
   "metadata": {},
   "outputs": [
    {
     "data": {
      "text/html": [
       "<div>\n",
       "<style scoped>\n",
       "    .dataframe tbody tr th:only-of-type {\n",
       "        vertical-align: middle;\n",
       "    }\n",
       "\n",
       "    .dataframe tbody tr th {\n",
       "        vertical-align: top;\n",
       "    }\n",
       "\n",
       "    .dataframe thead th {\n",
       "        text-align: right;\n",
       "    }\n",
       "</style>\n",
       "<table border=\"1\" class=\"dataframe\">\n",
       "  <thead>\n",
       "    <tr style=\"text-align: right;\">\n",
       "      <th></th>\n",
       "      <th>Indicator</th>\n",
       "      <th>Group</th>\n",
       "      <th>State</th>\n",
       "      <th>Subgroup</th>\n",
       "      <th>Phase</th>\n",
       "      <th>Time Period</th>\n",
       "      <th>Time Period Label</th>\n",
       "      <th>Time Period Start Date</th>\n",
       "      <th>Time Period End Date</th>\n",
       "      <th>Value</th>\n",
       "      <th>Low CI</th>\n",
       "      <th>High CI</th>\n",
       "      <th>Confidence Interval</th>\n",
       "      <th>Quartile Range</th>\n",
       "    </tr>\n",
       "  </thead>\n",
       "  <tbody>\n",
       "    <tr>\n",
       "      <th>0</th>\n",
       "      <td>Symptoms of Depressive Disorder</td>\n",
       "      <td>National Estimate</td>\n",
       "      <td>United States</td>\n",
       "      <td>United States</td>\n",
       "      <td>1</td>\n",
       "      <td>1</td>\n",
       "      <td>Apr 23 - May 5, 2020</td>\n",
       "      <td>04/23/2020</td>\n",
       "      <td>05/05/2020</td>\n",
       "      <td>23.5</td>\n",
       "      <td>22.7</td>\n",
       "      <td>24.3</td>\n",
       "      <td>22.7 - 24.3</td>\n",
       "      <td>NaN</td>\n",
       "    </tr>\n",
       "    <tr>\n",
       "      <th>1</th>\n",
       "      <td>Symptoms of Depressive Disorder</td>\n",
       "      <td>By Age</td>\n",
       "      <td>United States</td>\n",
       "      <td>18 - 29 years</td>\n",
       "      <td>1</td>\n",
       "      <td>1</td>\n",
       "      <td>Apr 23 - May 5, 2020</td>\n",
       "      <td>04/23/2020</td>\n",
       "      <td>05/05/2020</td>\n",
       "      <td>32.7</td>\n",
       "      <td>30.2</td>\n",
       "      <td>35.2</td>\n",
       "      <td>30.2 - 35.2</td>\n",
       "      <td>NaN</td>\n",
       "    </tr>\n",
       "    <tr>\n",
       "      <th>2</th>\n",
       "      <td>Symptoms of Depressive Disorder</td>\n",
       "      <td>By Age</td>\n",
       "      <td>United States</td>\n",
       "      <td>30 - 39 years</td>\n",
       "      <td>1</td>\n",
       "      <td>1</td>\n",
       "      <td>Apr 23 - May 5, 2020</td>\n",
       "      <td>04/23/2020</td>\n",
       "      <td>05/05/2020</td>\n",
       "      <td>25.7</td>\n",
       "      <td>24.1</td>\n",
       "      <td>27.3</td>\n",
       "      <td>24.1 - 27.3</td>\n",
       "      <td>NaN</td>\n",
       "    </tr>\n",
       "    <tr>\n",
       "      <th>3</th>\n",
       "      <td>Symptoms of Depressive Disorder</td>\n",
       "      <td>By Age</td>\n",
       "      <td>United States</td>\n",
       "      <td>40 - 49 years</td>\n",
       "      <td>1</td>\n",
       "      <td>1</td>\n",
       "      <td>Apr 23 - May 5, 2020</td>\n",
       "      <td>04/23/2020</td>\n",
       "      <td>05/05/2020</td>\n",
       "      <td>24.8</td>\n",
       "      <td>23.3</td>\n",
       "      <td>26.2</td>\n",
       "      <td>23.3 - 26.2</td>\n",
       "      <td>NaN</td>\n",
       "    </tr>\n",
       "    <tr>\n",
       "      <th>4</th>\n",
       "      <td>Symptoms of Depressive Disorder</td>\n",
       "      <td>By Age</td>\n",
       "      <td>United States</td>\n",
       "      <td>50 - 59 years</td>\n",
       "      <td>1</td>\n",
       "      <td>1</td>\n",
       "      <td>Apr 23 - May 5, 2020</td>\n",
       "      <td>04/23/2020</td>\n",
       "      <td>05/05/2020</td>\n",
       "      <td>23.2</td>\n",
       "      <td>21.5</td>\n",
       "      <td>25.0</td>\n",
       "      <td>21.5 - 25.0</td>\n",
       "      <td>NaN</td>\n",
       "    </tr>\n",
       "  </tbody>\n",
       "</table>\n",
       "</div>"
      ],
      "text/plain": [
       "                         Indicator              Group          State  \\\n",
       "0  Symptoms of Depressive Disorder  National Estimate  United States   \n",
       "1  Symptoms of Depressive Disorder             By Age  United States   \n",
       "2  Symptoms of Depressive Disorder             By Age  United States   \n",
       "3  Symptoms of Depressive Disorder             By Age  United States   \n",
       "4  Symptoms of Depressive Disorder             By Age  United States   \n",
       "\n",
       "        Subgroup Phase  Time Period     Time Period Label  \\\n",
       "0  United States     1            1  Apr 23 - May 5, 2020   \n",
       "1  18 - 29 years     1            1  Apr 23 - May 5, 2020   \n",
       "2  30 - 39 years     1            1  Apr 23 - May 5, 2020   \n",
       "3  40 - 49 years     1            1  Apr 23 - May 5, 2020   \n",
       "4  50 - 59 years     1            1  Apr 23 - May 5, 2020   \n",
       "\n",
       "  Time Period Start Date Time Period End Date  Value  Low CI  High CI  \\\n",
       "0             04/23/2020           05/05/2020   23.5    22.7     24.3   \n",
       "1             04/23/2020           05/05/2020   32.7    30.2     35.2   \n",
       "2             04/23/2020           05/05/2020   25.7    24.1     27.3   \n",
       "3             04/23/2020           05/05/2020   24.8    23.3     26.2   \n",
       "4             04/23/2020           05/05/2020   23.2    21.5     25.0   \n",
       "\n",
       "  Confidence Interval Quartile Range  \n",
       "0         22.7 - 24.3            NaN  \n",
       "1         30.2 - 35.2            NaN  \n",
       "2         24.1 - 27.3            NaN  \n",
       "3         23.3 - 26.2            NaN  \n",
       "4         21.5 - 25.0            NaN  "
      ]
     },
     "execution_count": 4,
     "metadata": {},
     "output_type": "execute_result"
    }
   ],
   "source": [
    "rawhealth.head()"
   ]
  },
  {
   "cell_type": "markdown",
   "id": "28b2e8ef",
   "metadata": {},
   "source": [
    "Those time periods are going to be a problem. They not only don't have identical start and end dates, but are quite different in length with the visible mental health survey time period being much shorter. Let us see exactly how bad this is by checking the unique values found in the \"Time Period\" field of the immunization dataframe and the \"Time Period Label\" field of the mental health dataframe."
   ]
  },
  {
   "cell_type": "code",
   "execution_count": 5,
   "id": "12b39f6b",
   "metadata": {},
   "outputs": [
    {
     "name": "stdout",
     "output_type": "stream",
     "text": [
      "Immunization Survey Time Periods:\n",
      "['Apr 22 - May 29' 'August 1 - August 28' 'August 29 - September 25'\n",
      " 'June 27 - July 31' 'May 30 - June 26' 'October 31 - November 27'\n",
      " 'September 26 - October 30' 'Apr 25 - May 1' 'August 1 -  August 7'\n",
      " 'August 15  -  August 21' 'August 22  -  August 28'\n",
      " 'August 29  -  September 4' 'August 8  -  August 14' 'July 11 - July 17'\n",
      " 'July 18 - July 24' 'July 25 - July 31' 'July 4 - July 10'\n",
      " 'June 13 - June 19' 'June 20 - June 26' 'June 27 - July 3'\n",
      " 'June 6 - June 12' 'May 16 - May 22' 'May 2 - May 8' 'May 23 - May 29'\n",
      " 'May 30 - June 5' 'May 9 - May 15' 'November 14  -  November 20'\n",
      " 'November 21  -  November 27' 'November 28  -  December 4'\n",
      " 'November 7  -  November 13' 'October 10  -  October 16'\n",
      " 'October 17  -  October 23' 'October 24  -  October 30'\n",
      " 'October 3  -  October 9' 'October 31  -  November 6'\n",
      " 'September 12  -  September 18' 'September 19  -  September 25'\n",
      " 'September 26  - October 2' 'September 5  -  September 11']\n",
      "Mental Health Survey Time Periods:\n",
      "['Apr 23 - May 5, 2020' 'May 7 - May 12, 2020' 'May 14 - May 19, 2020'\n",
      " 'May 21 - May 26, 2020' 'May 28 - June 2, 2020' 'June 4 - June 9, 2020'\n",
      " 'June 11 - June 16, 2020' 'June 18 - June 23, 2020'\n",
      " 'June 25 - June 30, 2020' 'July 2 - July 7, 2020'\n",
      " 'July 9 - July 14, 2020' 'July 16 - July 21, 2020'\n",
      " 'July 22 - Aug 18, 2020' 'Aug 19 - Aug 31, 2020' 'Sep 2 - Sep 14, 2020'\n",
      " 'Sep 16 - Sep 28, 2020' 'Sep 30 - Oct 12, 2020' 'Oct 14 - Oct 26, 2020'\n",
      " 'Oct 28 - Nov 9, 2020' 'Nov 11 - Nov 23, 2020' 'Nov 25 - Dec 7, 2020'\n",
      " 'Dec 9 - Dec 21, 2020' 'Dec 22, 2020 - Jan 5, 2021'\n",
      " 'Jan 6 - Jan 18, 2021' 'Jan 20 - Feb 1, 2021' 'Feb 3 - Feb 15, 2021'\n",
      " 'Feb 17 - Mar 1, 2021' 'Mar 3 - Mar 15, 2021' 'Mar 17 - Mar 29, 2021'\n",
      " 'Mar 30 - Apr 13, 2021' 'Apr 14 - Apr 26, 2021' 'Apr 28 - May 10, 2021'\n",
      " 'May 12 - May 24, 2021' 'May 26 - Jun 7, 2021' 'Jun 9 - Jun 21, 2021'\n",
      " 'Jun 23 - Jul 5, 2021' 'Jul 6 - Jul 20, 2021' 'Jul 21 - Aug 2, 2021'\n",
      " 'Aug 4 - Aug 16, 2021' 'Aug 18 - Aug 30, 2021' 'Sep 1 - Sep 13, 2021'\n",
      " 'Sep 15 - Sep 27, 2021' 'Sep 29 - Oct 11, 2021']\n"
     ]
    }
   ],
   "source": [
    "print(\"Immunization Survey Time Periods:\")\n",
    "print(rawimm[\"Time Period\"].unique())\n",
    "print(\"Mental Health Survey Time Periods:\")\n",
    "print(rawhealth[\"Time Period Label\"].unique())"
   ]
  },
  {
   "cell_type": "markdown",
   "id": "b3098d4a",
   "metadata": {},
   "source": [
    "Now this is a tricky one. Not only will it be necessary to wrench one of these sets into the time system of the other, there exist two *types* of time periods for the Immunization survey, Weekly and Monthly. But this is not all bad. Let's separate the two types and see if there's any substantial difference between them."
   ]
  },
  {
   "cell_type": "code",
   "execution_count": 6,
   "id": "db8c631e",
   "metadata": {},
   "outputs": [
    {
     "data": {
      "text/html": [
       "<div>\n",
       "<style scoped>\n",
       "    .dataframe tbody tr th:only-of-type {\n",
       "        vertical-align: middle;\n",
       "    }\n",
       "\n",
       "    .dataframe tbody tr th {\n",
       "        vertical-align: top;\n",
       "    }\n",
       "\n",
       "    .dataframe thead th {\n",
       "        text-align: right;\n",
       "    }\n",
       "</style>\n",
       "<table border=\"1\" class=\"dataframe\">\n",
       "  <thead>\n",
       "    <tr style=\"text-align: right;\">\n",
       "      <th></th>\n",
       "      <th>Geography Type</th>\n",
       "      <th>Geography</th>\n",
       "      <th>Group Name</th>\n",
       "      <th>Group Category</th>\n",
       "      <th>Indicator Name</th>\n",
       "      <th>Indicator Category</th>\n",
       "      <th>Time Period</th>\n",
       "      <th>Time Type</th>\n",
       "      <th>Estimate (%)</th>\n",
       "      <th>95% CI (%)</th>\n",
       "      <th>Sample Size</th>\n",
       "      <th>Suppression Flag</th>\n",
       "    </tr>\n",
       "  </thead>\n",
       "  <tbody>\n",
       "    <tr>\n",
       "      <th>328828</th>\n",
       "      <td>National Estimates</td>\n",
       "      <td>National</td>\n",
       "      <td>Age</td>\n",
       "      <td>18 – 29 years</td>\n",
       "      <td>Vaccination uptake and intention</td>\n",
       "      <td>Vaccinated (≥1 dose)</td>\n",
       "      <td>Apr 25 - May 1</td>\n",
       "      <td>Weekly</td>\n",
       "      <td>36.2</td>\n",
       "      <td>33.2 - 39.3</td>\n",
       "      <td>3532.0</td>\n",
       "      <td>0</td>\n",
       "    </tr>\n",
       "    <tr>\n",
       "      <th>328829</th>\n",
       "      <td>National Estimates</td>\n",
       "      <td>National</td>\n",
       "      <td>Age</td>\n",
       "      <td>18 – 29 years</td>\n",
       "      <td>Fully Vaccinated with 1 or 2 doses</td>\n",
       "      <td>Fully vaccinated with 1 or 2 doses</td>\n",
       "      <td>Apr 25 - May 1</td>\n",
       "      <td>Weekly</td>\n",
       "      <td>20.8</td>\n",
       "      <td>18.6 - 23.1</td>\n",
       "      <td>3537.0</td>\n",
       "      <td>0</td>\n",
       "    </tr>\n",
       "    <tr>\n",
       "      <th>328830</th>\n",
       "      <td>National Estimates</td>\n",
       "      <td>National</td>\n",
       "      <td>Age</td>\n",
       "      <td>18 – 29 years</td>\n",
       "      <td>Many or almost all friends and family vaccinated</td>\n",
       "      <td>Many or almost all friends and family vaccinated</td>\n",
       "      <td>Apr 25 - May 1</td>\n",
       "      <td>Weekly</td>\n",
       "      <td>46.1</td>\n",
       "      <td>42.7 - 49.6</td>\n",
       "      <td>3513.0</td>\n",
       "      <td>0</td>\n",
       "    </tr>\n",
       "    <tr>\n",
       "      <th>328831</th>\n",
       "      <td>National Estimates</td>\n",
       "      <td>National</td>\n",
       "      <td>Age</td>\n",
       "      <td>18 – 29 years</td>\n",
       "      <td>Difficulty Receiving COVID-19 Vaccine</td>\n",
       "      <td>Not at all or a little difficult to get vaccin...</td>\n",
       "      <td>Apr 25 - May 1</td>\n",
       "      <td>Weekly</td>\n",
       "      <td>82.0</td>\n",
       "      <td>79.3 - 84.7</td>\n",
       "      <td>3503.0</td>\n",
       "      <td>0</td>\n",
       "    </tr>\n",
       "    <tr>\n",
       "      <th>328832</th>\n",
       "      <td>National Estimates</td>\n",
       "      <td>National</td>\n",
       "      <td>Age</td>\n",
       "      <td>18 – 29 years</td>\n",
       "      <td>Healthcare provider recommended I get a COVID-...</td>\n",
       "      <td>Healthcare provider recommended I get a COVID-...</td>\n",
       "      <td>Apr 25 - May 1</td>\n",
       "      <td>Weekly</td>\n",
       "      <td>22.1</td>\n",
       "      <td>19.3 - 24.8</td>\n",
       "      <td>3525.0</td>\n",
       "      <td>0</td>\n",
       "    </tr>\n",
       "  </tbody>\n",
       "</table>\n",
       "</div>"
      ],
      "text/plain": [
       "            Geography Type Geography Group Name Group Category  \\\n",
       "328828  National Estimates  National        Age  18 – 29 years   \n",
       "328829  National Estimates  National        Age  18 – 29 years   \n",
       "328830  National Estimates  National        Age  18 – 29 years   \n",
       "328831  National Estimates  National        Age  18 – 29 years   \n",
       "328832  National Estimates  National        Age  18 – 29 years   \n",
       "\n",
       "                                           Indicator Name  \\\n",
       "328828                   Vaccination uptake and intention   \n",
       "328829                 Fully Vaccinated with 1 or 2 doses   \n",
       "328830   Many or almost all friends and family vaccinated   \n",
       "328831              Difficulty Receiving COVID-19 Vaccine   \n",
       "328832  Healthcare provider recommended I get a COVID-...   \n",
       "\n",
       "                                       Indicator Category     Time Period  \\\n",
       "328828                               Vaccinated (≥1 dose)  Apr 25 - May 1   \n",
       "328829                 Fully vaccinated with 1 or 2 doses  Apr 25 - May 1   \n",
       "328830   Many or almost all friends and family vaccinated  Apr 25 - May 1   \n",
       "328831  Not at all or a little difficult to get vaccin...  Apr 25 - May 1   \n",
       "328832  Healthcare provider recommended I get a COVID-...  Apr 25 - May 1   \n",
       "\n",
       "       Time Type  Estimate (%)   95% CI (%)  Sample Size  Suppression Flag   \n",
       "328828    Weekly          36.2  33.2 - 39.3       3532.0                  0  \n",
       "328829    Weekly          20.8  18.6 - 23.1       3537.0                  0  \n",
       "328830    Weekly          46.1  42.7 - 49.6       3513.0                  0  \n",
       "328831    Weekly          82.0  79.3 - 84.7       3503.0                  0  \n",
       "328832    Weekly          22.1  19.3 - 24.8       3525.0                  0  "
      ]
     },
     "execution_count": 6,
     "metadata": {},
     "output_type": "execute_result"
    }
   ],
   "source": [
    "weekly = rawimm.loc[rawimm['Time Type'] == 'Weekly']\n",
    "weekly.head()"
   ]
  },
  {
   "cell_type": "code",
   "execution_count": 7,
   "id": "fed47794",
   "metadata": {},
   "outputs": [
    {
     "data": {
      "text/html": [
       "<div>\n",
       "<style scoped>\n",
       "    .dataframe tbody tr th:only-of-type {\n",
       "        vertical-align: middle;\n",
       "    }\n",
       "\n",
       "    .dataframe tbody tr th {\n",
       "        vertical-align: top;\n",
       "    }\n",
       "\n",
       "    .dataframe thead th {\n",
       "        text-align: right;\n",
       "    }\n",
       "</style>\n",
       "<table border=\"1\" class=\"dataframe\">\n",
       "  <thead>\n",
       "    <tr style=\"text-align: right;\">\n",
       "      <th></th>\n",
       "      <th>Geography Type</th>\n",
       "      <th>Geography</th>\n",
       "      <th>Group Name</th>\n",
       "      <th>Group Category</th>\n",
       "      <th>Indicator Name</th>\n",
       "      <th>Indicator Category</th>\n",
       "      <th>Time Period</th>\n",
       "      <th>Time Type</th>\n",
       "      <th>Estimate (%)</th>\n",
       "      <th>95% CI (%)</th>\n",
       "      <th>Sample Size</th>\n",
       "      <th>Suppression Flag</th>\n",
       "    </tr>\n",
       "  </thead>\n",
       "  <tbody>\n",
       "    <tr>\n",
       "      <th>0</th>\n",
       "      <td>Jurisdictional Estimates</td>\n",
       "      <td>Maryland</td>\n",
       "      <td>Age</td>\n",
       "      <td>18 – 49 years</td>\n",
       "      <td>Vaccination uptake and intention</td>\n",
       "      <td>Probably or definitely will not get vaccinated</td>\n",
       "      <td>Apr 22 - May 29</td>\n",
       "      <td>Monthly</td>\n",
       "      <td>13.6</td>\n",
       "      <td>10.5-17.4</td>\n",
       "      <td>1122.0</td>\n",
       "      <td>0</td>\n",
       "    </tr>\n",
       "    <tr>\n",
       "      <th>1</th>\n",
       "      <td>Jurisdictional Estimates</td>\n",
       "      <td>New Hampshire</td>\n",
       "      <td>Age</td>\n",
       "      <td>18 – 49 years</td>\n",
       "      <td>Full Vaccination Status</td>\n",
       "      <td>Fully vaccinated with 1 or 2 doses</td>\n",
       "      <td>Apr 22 - May 29</td>\n",
       "      <td>Monthly</td>\n",
       "      <td>34.8</td>\n",
       "      <td>30.3-39.6</td>\n",
       "      <td>524.0</td>\n",
       "      <td>0</td>\n",
       "    </tr>\n",
       "    <tr>\n",
       "      <th>2</th>\n",
       "      <td>Jurisdictional Estimates</td>\n",
       "      <td>Michigan</td>\n",
       "      <td>Age</td>\n",
       "      <td>18 – 49 years</td>\n",
       "      <td>Unvaccinated</td>\n",
       "      <td>Unvaccinated</td>\n",
       "      <td>Apr 22 - May 29</td>\n",
       "      <td>Monthly</td>\n",
       "      <td>56.1</td>\n",
       "      <td>50.2-61.8</td>\n",
       "      <td>451.0</td>\n",
       "      <td>0</td>\n",
       "    </tr>\n",
       "    <tr>\n",
       "      <th>3</th>\n",
       "      <td>Jurisdictional Estimates</td>\n",
       "      <td>Arkansas</td>\n",
       "      <td>Age</td>\n",
       "      <td>18 – 49 years</td>\n",
       "      <td>Unvaccinated</td>\n",
       "      <td>Unvaccinated</td>\n",
       "      <td>Apr 22 - May 29</td>\n",
       "      <td>Monthly</td>\n",
       "      <td>66.2</td>\n",
       "      <td>61.9-70.3</td>\n",
       "      <td>639.0</td>\n",
       "      <td>0</td>\n",
       "    </tr>\n",
       "    <tr>\n",
       "      <th>4</th>\n",
       "      <td>Jurisdictional Estimates</td>\n",
       "      <td>Nevada</td>\n",
       "      <td>Age</td>\n",
       "      <td>18 – 49 years</td>\n",
       "      <td>Unvaccinated</td>\n",
       "      <td>Unvaccinated</td>\n",
       "      <td>Apr 22 - May 29</td>\n",
       "      <td>Monthly</td>\n",
       "      <td>56.7</td>\n",
       "      <td>49.6-63.6</td>\n",
       "      <td>304.0</td>\n",
       "      <td>0</td>\n",
       "    </tr>\n",
       "  </tbody>\n",
       "</table>\n",
       "</div>"
      ],
      "text/plain": [
       "             Geography Type      Geography Group Name Group Category  \\\n",
       "0  Jurisdictional Estimates       Maryland        Age  18 – 49 years   \n",
       "1  Jurisdictional Estimates  New Hampshire        Age  18 – 49 years   \n",
       "2  Jurisdictional Estimates       Michigan        Age  18 – 49 years   \n",
       "3  Jurisdictional Estimates       Arkansas        Age  18 – 49 years   \n",
       "4  Jurisdictional Estimates         Nevada        Age  18 – 49 years   \n",
       "\n",
       "                     Indicator Name  \\\n",
       "0  Vaccination uptake and intention   \n",
       "1           Full Vaccination Status   \n",
       "2                      Unvaccinated   \n",
       "3                      Unvaccinated   \n",
       "4                      Unvaccinated   \n",
       "\n",
       "                               Indicator Category      Time Period Time Type  \\\n",
       "0  Probably or definitely will not get vaccinated  Apr 22 - May 29   Monthly   \n",
       "1              Fully vaccinated with 1 or 2 doses  Apr 22 - May 29   Monthly   \n",
       "2                                    Unvaccinated  Apr 22 - May 29   Monthly   \n",
       "3                                    Unvaccinated  Apr 22 - May 29   Monthly   \n",
       "4                                    Unvaccinated  Apr 22 - May 29   Monthly   \n",
       "\n",
       "   Estimate (%) 95% CI (%)  Sample Size  Suppression Flag   \n",
       "0          13.6  10.5-17.4       1122.0                  0  \n",
       "1          34.8  30.3-39.6        524.0                  0  \n",
       "2          56.1  50.2-61.8        451.0                  0  \n",
       "3          66.2  61.9-70.3        639.0                  0  \n",
       "4          56.7  49.6-63.6        304.0                  0  "
      ]
     },
     "execution_count": 7,
     "metadata": {},
     "output_type": "execute_result"
    }
   ],
   "source": [
    "monthly = rawimm.loc[rawimm['Time Type'] == 'Monthly']\n",
    "monthly.head()"
   ]
  },
  {
   "cell_type": "markdown",
   "id": "6af488ac",
   "metadata": {},
   "source": [
    "From the first five elements of each, it seems as if the first ~329 thousand entries in this 368 thousand row table are monthly entries, and *possibly* this is because the weekly entries are exclusively National Estimates.\n",
    "Let's attempt to confirm this by looking for a Jurisdictional Estimate in the weekly dataframe.\n",
    "We should get an empty dataframe if this is true."
   ]
  },
  {
   "cell_type": "code",
   "execution_count": 8,
   "id": "946d9ae5",
   "metadata": {},
   "outputs": [
    {
     "data": {
      "text/html": [
       "<div>\n",
       "<style scoped>\n",
       "    .dataframe tbody tr th:only-of-type {\n",
       "        vertical-align: middle;\n",
       "    }\n",
       "\n",
       "    .dataframe tbody tr th {\n",
       "        vertical-align: top;\n",
       "    }\n",
       "\n",
       "    .dataframe thead th {\n",
       "        text-align: right;\n",
       "    }\n",
       "</style>\n",
       "<table border=\"1\" class=\"dataframe\">\n",
       "  <thead>\n",
       "    <tr style=\"text-align: right;\">\n",
       "      <th></th>\n",
       "      <th>Geography Type</th>\n",
       "      <th>Geography</th>\n",
       "      <th>Group Name</th>\n",
       "      <th>Group Category</th>\n",
       "      <th>Indicator Name</th>\n",
       "      <th>Indicator Category</th>\n",
       "      <th>Time Period</th>\n",
       "      <th>Time Type</th>\n",
       "      <th>Estimate (%)</th>\n",
       "      <th>95% CI (%)</th>\n",
       "      <th>Sample Size</th>\n",
       "      <th>Suppression Flag</th>\n",
       "    </tr>\n",
       "  </thead>\n",
       "  <tbody>\n",
       "  </tbody>\n",
       "</table>\n",
       "</div>"
      ],
      "text/plain": [
       "Empty DataFrame\n",
       "Columns: [Geography Type, Geography, Group Name, Group Category, Indicator Name, Indicator Category, Time Period, Time Type, Estimate (%), 95% CI (%), Sample Size, Suppression Flag ]\n",
       "Index: []"
      ]
     },
     "execution_count": 8,
     "metadata": {},
     "output_type": "execute_result"
    }
   ],
   "source": [
    "test = weekly.loc[weekly['Geography Type'] == 'Jurisdictional Estimates']\n",
    "test.head()"
   ]
  },
  {
   "cell_type": "markdown",
   "id": "739088ba",
   "metadata": {},
   "source": [
    "Lovely. Since our focus is on the States, we can now disregard the weekly entries for the time being and instead work on fitting the shorter time periods found in the mental health frame into the months of the immunization survey frame.\n",
    "It would be possible to do this with clever usage of the datetime library and some regex, but for such a small number of unique values it will be much easier to simply do it manually for the limited period where the two dataframes overlap."
   ]
  },
  {
   "cell_type": "code",
   "execution_count": 9,
   "id": "ce55e154",
   "metadata": {},
   "outputs": [
    {
     "name": "stderr",
     "output_type": "stream",
     "text": [
      "/opt/conda/lib/python3.9/site-packages/pandas/core/indexing.py:1817: SettingWithCopyWarning: \n",
      "A value is trying to be set on a copy of a slice from a DataFrame.\n",
      "Try using .loc[row_indexer,col_indexer] = value instead\n",
      "\n",
      "See the caveats in the documentation: https://pandas.pydata.org/pandas-docs/stable/user_guide/indexing.html#returning-a-view-versus-a-copy\n",
      "  self._setitem_single_column(loc, value, pi)\n"
     ]
    },
    {
     "data": {
      "text/html": [
       "<div>\n",
       "<style scoped>\n",
       "    .dataframe tbody tr th:only-of-type {\n",
       "        vertical-align: middle;\n",
       "    }\n",
       "\n",
       "    .dataframe tbody tr th {\n",
       "        vertical-align: top;\n",
       "    }\n",
       "\n",
       "    .dataframe thead th {\n",
       "        text-align: right;\n",
       "    }\n",
       "</style>\n",
       "<table border=\"1\" class=\"dataframe\">\n",
       "  <thead>\n",
       "    <tr style=\"text-align: right;\">\n",
       "      <th></th>\n",
       "      <th>Indicator</th>\n",
       "      <th>Group</th>\n",
       "      <th>State</th>\n",
       "      <th>Subgroup</th>\n",
       "      <th>Phase</th>\n",
       "      <th>Time Period</th>\n",
       "      <th>Month</th>\n",
       "      <th>Time Period Label</th>\n",
       "      <th>Time Period Start Date</th>\n",
       "      <th>Time Period End Date</th>\n",
       "      <th>Value</th>\n",
       "      <th>Low CI</th>\n",
       "      <th>High CI</th>\n",
       "      <th>Confidence Interval</th>\n",
       "      <th>Quartile Range</th>\n",
       "    </tr>\n",
       "  </thead>\n",
       "  <tbody>\n",
       "    <tr>\n",
       "      <th>6057</th>\n",
       "      <td>Symptoms of Depressive Disorder</td>\n",
       "      <td>National Estimate</td>\n",
       "      <td>United States</td>\n",
       "      <td>United States</td>\n",
       "      <td>3.1</td>\n",
       "      <td>29</td>\n",
       "      <td>Apr 22 - May 29</td>\n",
       "      <td>Apr 28 - May 10, 2021</td>\n",
       "      <td>04/28/2021</td>\n",
       "      <td>05/10/2021</td>\n",
       "      <td>21.9</td>\n",
       "      <td>21.3</td>\n",
       "      <td>22.6</td>\n",
       "      <td>21.3 - 22.6</td>\n",
       "      <td>NaN</td>\n",
       "    </tr>\n",
       "    <tr>\n",
       "      <th>6058</th>\n",
       "      <td>Symptoms of Depressive Disorder</td>\n",
       "      <td>By Age</td>\n",
       "      <td>United States</td>\n",
       "      <td>18 - 29 years</td>\n",
       "      <td>3.1</td>\n",
       "      <td>29</td>\n",
       "      <td>Apr 22 - May 29</td>\n",
       "      <td>Apr 28 - May 10, 2021</td>\n",
       "      <td>04/28/2021</td>\n",
       "      <td>05/10/2021</td>\n",
       "      <td>36.9</td>\n",
       "      <td>34.1</td>\n",
       "      <td>39.7</td>\n",
       "      <td>34.1 - 39.7</td>\n",
       "      <td>NaN</td>\n",
       "    </tr>\n",
       "    <tr>\n",
       "      <th>6059</th>\n",
       "      <td>Symptoms of Depressive Disorder</td>\n",
       "      <td>By Age</td>\n",
       "      <td>United States</td>\n",
       "      <td>30 - 39 years</td>\n",
       "      <td>3.1</td>\n",
       "      <td>29</td>\n",
       "      <td>Apr 22 - May 29</td>\n",
       "      <td>Apr 28 - May 10, 2021</td>\n",
       "      <td>04/28/2021</td>\n",
       "      <td>05/10/2021</td>\n",
       "      <td>26.1</td>\n",
       "      <td>24.7</td>\n",
       "      <td>27.6</td>\n",
       "      <td>24.7 - 27.6</td>\n",
       "      <td>NaN</td>\n",
       "    </tr>\n",
       "    <tr>\n",
       "      <th>6060</th>\n",
       "      <td>Symptoms of Depressive Disorder</td>\n",
       "      <td>By Age</td>\n",
       "      <td>United States</td>\n",
       "      <td>40 - 49 years</td>\n",
       "      <td>3.1</td>\n",
       "      <td>29</td>\n",
       "      <td>Apr 22 - May 29</td>\n",
       "      <td>Apr 28 - May 10, 2021</td>\n",
       "      <td>04/28/2021</td>\n",
       "      <td>05/10/2021</td>\n",
       "      <td>21.4</td>\n",
       "      <td>20.1</td>\n",
       "      <td>22.7</td>\n",
       "      <td>20.1 - 22.7</td>\n",
       "      <td>NaN</td>\n",
       "    </tr>\n",
       "    <tr>\n",
       "      <th>6061</th>\n",
       "      <td>Symptoms of Depressive Disorder</td>\n",
       "      <td>By Age</td>\n",
       "      <td>United States</td>\n",
       "      <td>50 - 59 years</td>\n",
       "      <td>3.1</td>\n",
       "      <td>29</td>\n",
       "      <td>Apr 22 - May 29</td>\n",
       "      <td>Apr 28 - May 10, 2021</td>\n",
       "      <td>04/28/2021</td>\n",
       "      <td>05/10/2021</td>\n",
       "      <td>20.6</td>\n",
       "      <td>19.3</td>\n",
       "      <td>21.9</td>\n",
       "      <td>19.3 - 21.9</td>\n",
       "      <td>NaN</td>\n",
       "    </tr>\n",
       "  </tbody>\n",
       "</table>\n",
       "</div>"
      ],
      "text/plain": [
       "                            Indicator              Group          State  \\\n",
       "6057  Symptoms of Depressive Disorder  National Estimate  United States   \n",
       "6058  Symptoms of Depressive Disorder             By Age  United States   \n",
       "6059  Symptoms of Depressive Disorder             By Age  United States   \n",
       "6060  Symptoms of Depressive Disorder             By Age  United States   \n",
       "6061  Symptoms of Depressive Disorder             By Age  United States   \n",
       "\n",
       "           Subgroup Phase  Time Period            Month  \\\n",
       "6057  United States   3.1           29  Apr 22 - May 29   \n",
       "6058  18 - 29 years   3.1           29  Apr 22 - May 29   \n",
       "6059  30 - 39 years   3.1           29  Apr 22 - May 29   \n",
       "6060  40 - 49 years   3.1           29  Apr 22 - May 29   \n",
       "6061  50 - 59 years   3.1           29  Apr 22 - May 29   \n",
       "\n",
       "          Time Period Label Time Period Start Date Time Period End Date  \\\n",
       "6057  Apr 28 - May 10, 2021             04/28/2021           05/10/2021   \n",
       "6058  Apr 28 - May 10, 2021             04/28/2021           05/10/2021   \n",
       "6059  Apr 28 - May 10, 2021             04/28/2021           05/10/2021   \n",
       "6060  Apr 28 - May 10, 2021             04/28/2021           05/10/2021   \n",
       "6061  Apr 28 - May 10, 2021             04/28/2021           05/10/2021   \n",
       "\n",
       "      Value  Low CI  High CI Confidence Interval Quartile Range  \n",
       "6057   21.9    21.3     22.6         21.3 - 22.6            NaN  \n",
       "6058   36.9    34.1     39.7         34.1 - 39.7            NaN  \n",
       "6059   26.1    24.7     27.6         24.7 - 27.6            NaN  \n",
       "6060   21.4    20.1     22.7         20.1 - 22.7            NaN  \n",
       "6061   20.6    19.3     21.9         19.3 - 21.9            NaN  "
      ]
     },
     "execution_count": 9,
     "metadata": {},
     "output_type": "execute_result"
    }
   ],
   "source": [
    "month_health = rawhealth.loc[rawhealth['Time Period'] > 28]\n",
    "month_health.insert(6, 'Month', np.nan)\n",
    "month_health.loc[month_health['Time Period'] == 29, 'Month'] = 'Apr 22 - May 29'\n",
    "month_health.loc[month_health['Time Period'] == 30, 'Month'] = 'Apr 22 - May 29'\n",
    "month_health.loc[month_health['Time Period'] == 31, 'Month'] = 'May 30 - June 26'\n",
    "month_health.loc[month_health['Time Period'] == 32, 'Month'] = 'May 30 - June 26'\n",
    "month_health.loc[month_health['Time Period'] == 33, 'Month'] = 'June 27 - July 31'\n",
    "month_health.loc[month_health['Time Period'] == 34, 'Month'] = 'June 27 - July 31'\n",
    "month_health.loc[month_health['Time Period'] == 35, 'Month'] = 'August 1 - August 28'\n",
    "month_health.loc[month_health['Time Period'] == 36, 'Month'] = 'August 1 - August 28'\n",
    "month_health.loc[month_health['Time Period'] == 37, 'Month'] = 'August 29 - Sept 25'\n",
    "month_health.loc[month_health['Time Period'] == 38, 'Month'] = 'August 29 - Sept 25'\n",
    "month_health.loc[month_health['Time Period'] == 39, 'Month'] = 'Sept 26 - Oct 30'\n",
    "month_health = month_health.dropna(subset = ['Month'])\n",
    "month_health.head()\n"
   ]
  },
  {
   "cell_type": "markdown",
   "id": "f8e887d5",
   "metadata": {},
   "source": [
    "Now that we have a shared field, the datasets will be able to play nicely after just a few more steps of setup.\n",
    "But it's about time we started getting a grasp on the statistics proper. So let's quickly make a scatter plot to see what sort of trends might show up from April through October of 2021."
   ]
  },
  {
   "cell_type": "code",
   "execution_count": 10,
   "id": "e91a49f2",
   "metadata": {},
   "outputs": [
    {
     "data": {
      "text/plain": [
       "<AxesSubplot:xlabel='Month', ylabel='Value'>"
      ]
     },
     "execution_count": 10,
     "metadata": {},
     "output_type": "execute_result"
    },
    {
     "data": {
      "image/png": "[encoded data removed]",
      "text/plain": [
       "<Figure size 1080x864 with 1 Axes>"
      ]
     },
     "metadata": {
      "needs_background": "light"
     },
     "output_type": "display_data"
    },
    {
     "data": {
      "image/png": "[encoded data removed]",
      "text/plain": [
       "<Figure size 1080x864 with 1 Axes>"
      ]
     },
     "metadata": {
      "needs_background": "light"
     },
     "output_type": "display_data"
    }
   ],
   "source": [
    "states_imm = monthly.loc[monthly[\"Group Name\"] == 'All Adults 18+']\n",
    "no_vacc = states_imm.loc[states_imm['Indicator Category'] == 'Probably or definitely will not get vaccinated']\n",
    "no_vacc.plot(x = 'Time Period', y = 'Estimate (%)', kind = 'scatter', figsize = (15,12))\n",
    "depresso = month_health.loc[month_health['Indicator'] == 'Symptoms of Depressive Disorder']\n",
    "depresso.plot(x = 'Month', y = 'Value', kind = 'scatter', figsize = (15,12))"
   ]
  },
  {
   "cell_type": "markdown",
   "id": "ca77e6c2",
   "metadata": {},
   "source": [
    "So we immediately notice two things looking at these plots.\n",
    "\n",
    "1:\n",
    "\n",
    "The team behind the immunization survey had the initial data alphabetically rather than chronologically sorted. Not the way I would have done it, but I don't work for the CDC. \n",
    "\n",
    "2: \n",
    "\n",
    "It seems that the average rate for experiencing symptoms of depression in a given state is around 20% and tends to stay there. There also exist a few seemingly ridiculous outliers on the top end for this dataset.\n",
    "Conveniently for us the source page https://www.cdc.gov/nchs/covid19/pulse/mental-health.htm includes a very easy-to-navigate overview that quickly reveals said outliers aren't the data from states at large, but rather the data specifically from disabled and LGBT people. This is is rather interesting (and tragic), but it's not the topic we're going for in this tutorial. We will instead leave everyone in a given state together in one pleasant little socially distanced pile.\n",
    "\n",
    "Speaking of bringing together, it's about time we did a merge of our semi-trimmed dataframes.\n"
   ]
  },
  {
   "cell_type": "markdown",
   "id": "e2829b0a",
   "metadata": {},
   "source": [
    "Data on immunization confidence retrieved from \n",
    "https://data.cdc.gov/Vaccinations/National-Immunization-Survey-Adult-COVID-Module-NI/udsf-9v7b \n",
    "on 12/18/2021\n",
    "\n",
    "Data on symptoms of depression and anxiety retrieved from \n",
    "https://www.cdc.gov/nchs/covid19/pulse/mental-health.htm \n",
    "on 12/18/2021\n"
   ]
  },
  {
   "cell_type": "code",
   "execution_count": 11,
   "id": "436a54ad",
   "metadata": {},
   "outputs": [
    {
     "name": "stdout",
     "output_type": "stream",
     "text": [
      "<class 'pandas.core.frame.DataFrame'>\n",
      "Int64Index: 816 entries, 0 to 815\n",
      "Data columns (total 5 columns):\n",
      " #   Column           Non-Null Count  Dtype  \n",
      "---  ------           --------------  -----  \n",
      " 0   State            816 non-null    object \n",
      " 1   Month            816 non-null    object \n",
      " 2   Depression       816 non-null    float64\n",
      " 3   Vaccine Refusal  816 non-null    float64\n",
      " 4   Anxiety          816 non-null    float64\n",
      "dtypes: float64(3), object(2)\n",
      "memory usage: 38.2+ KB\n",
      "None\n"
     ]
    }
   ],
   "source": [
    "\n",
    "merged = pd.merge(depresso, no_vacc, how = 'left', left_on = ['State','Month'], right_on = ['Geography','Time Period'])\n",
    "trimmed = merged.dropna()[['State','Month','Value','Estimate (%)']]\n",
    "trimmed.set_axis(['State','Month','Depression','Vaccine Refusal'],axis = 1, inplace = True)\n",
    "anxiety = month_health.loc[month_health['Indicator'] == 'Symptoms of Anxiety Disorder']\n",
    "added_anxiety = pd.merge(trimmed,anxiety, how = 'left', on = ['State','Month'])\n",
    "trimmed = added_anxiety[['State','Month','Depression','Vaccine Refusal','Value']]\n",
    "trimmed.set_axis(['State','Month','Depression','Vaccine Refusal','Anxiety'],axis = 1, inplace = True)\n",
    "\n",
    "print(trimmed.info())"
   ]
  },
  {
   "cell_type": "markdown",
   "id": "249073ff",
   "metadata": {},
   "source": [
    "After all that struggle, we finally have our happy little data frame containing all the information we presently care about.\n",
    "\n",
    "Let's make a plot! \n",
    "Our x-value will be Vaccine Refusal, the y-value Depression, and we'll add a regression line for good measure.\n",
    "We'll be checking p-value using scipy's stats library as well, in case this ends up being statistically significant."
   ]
  },
  {
   "cell_type": "code",
   "execution_count": 12,
   "id": "f8b01650",
   "metadata": {},
   "outputs": [
    {
     "name": "stdout",
     "output_type": "stream",
     "text": [
      "2.1274682414900194e-16\n"
     ]
    },
    {
     "data": {
      "image/png": "[encoded data removed]",
      "text/plain": [
       "<Figure size 576x576 with 1 Axes>"
      ]
     },
     "metadata": {
      "needs_background": "light"
     },
     "output_type": "display_data"
    }
   ],
   "source": [
    "plt.figure(figsize=(8,8))\n",
    "x = trimmed['Vaccine Refusal']\n",
    "y = trimmed['Depression']\n",
    "p = ttest_ind(x, y).pvalue\n",
    "print(p)\n",
    "m, b = np.polyfit(x,y,1)\n",
    "plt.xlabel(\"Vaccine Refusal\")\n",
    "plt.ylabel(\"Depression\")\n",
    "plt.plot(x,y,'o')\n",
    "plt.plot(x,(m*x)+b,1,color='red')\n",
    "plt.show()\n",
    "plt.close()"
   ]
  },
  {
   "cell_type": "markdown",
   "id": "d7a35ffc",
   "metadata": {},
   "source": [
    "That's a cute p-value right there. It's more than small enough to show that there is a statistically significant relationship between self-reported depression symptoms and vaccine refusal. More about that later."
   ]
  },
  {
   "cell_type": "code",
   "execution_count": 13,
   "id": "74b08f2f",
   "metadata": {},
   "outputs": [
    {
     "name": "stdout",
     "output_type": "stream",
     "text": [
      "7.640966365995866e-123\n"
     ]
    },
    {
     "data": {
      "image/png": "[encoded data removed]",
      "text/plain": [
       "<Figure size 576x576 with 1 Axes>"
      ]
     },
     "metadata": {
      "needs_background": "light"
     },
     "output_type": "display_data"
    }
   ],
   "source": [
    "plt.figure(figsize=(8,8))\n",
    "x = trimmed['Vaccine Refusal']\n",
    "y = trimmed['Anxiety']\n",
    "p = ttest_ind(x, y).pvalue\n",
    "print(p)\n",
    "m, b = np.polyfit(x,y,1)\n",
    "plt.xlabel(\"Vaccine Refusal\")\n",
    "plt.ylabel(\"Anxiety\")\n",
    "plt.plot(x,y,'o')\n",
    "plt.plot(x,(m*x)+b,1,color='red')\n",
    "plt.show()\n",
    "plt.close()"
   ]
  },
  {
   "cell_type": "markdown",
   "id": "33af1a8c",
   "metadata": {},
   "source": [
    "Man oh man is that a small p-value.\n",
    "\n",
    "This is a good time to briefly talk about the null hypothesis before we put it in the dumpster. The null hypothesis has a very simple concept: that there is no relationship between two sets of variables. In order to find out how likely it is that any seeming correlations are the product of random chance rather than something *statistically significant* we can use a t-test.\n",
    "The math behind actually performing the t-test necessary to find a p-value is outside the more practical scope of this tutorial, but more information on that can be found here: https://home.csulb.edu/~msaintg/ppa696/696stsig.htm\n",
    "\n",
    "The important part is, that, among other interesting data, the t-test spits out the aforementioned p-value. This is the probability we need. When it becomes sufficiently small (often .05 or less), we claim that the result is unlikely to have occurred from a freak accident and as such is probably worth exploring further. This is called \"rejecting the null hypothesis\" and we have the pleasure of doing just that at this time.\n",
    "\n",
    "But we're not done yet! We now have to find the effect size, which is basically about how much a variable is actually affected by another."
   ]
  },
  {
   "cell_type": "code",
   "execution_count": 14,
   "id": "6177719f",
   "metadata": {},
   "outputs": [
    {
     "name": "stdout",
     "output_type": "stream",
     "text": [
      "Anxiety effect size: 0.12134\n",
      "Depression effect size: 0.17339\n"
     ]
    }
   ],
   "source": [
    "correlation, e = pearsonr(x, y)\n",
    "print(\"Anxiety effect size: %.5f\" % correlation)\n",
    "correlation, e = pearsonr(x = trimmed['Vaccine Refusal'], y = trimmed['Depression'])\n",
    "print(\"Depression effect size: %.5f\" % correlation)"
   ]
  },
  {
   "cell_type": "markdown",
   "id": "65abc7f0",
   "metadata": {},
   "source": [
    "Dang. We could have walked away with some measure of victory and be wrapping up now, but alas, those numbers aren't big enough to show a strong correlation. The depression effect size (the larger one!) is just shy of qualifying as \"weak\" as-is. We'll need to do something different from just making scatter plots and drawing a line. Something a wee bit more advanced.\n",
    "Multiple Regression. We're going to need some more variables."
   ]
  },
  {
   "cell_type": "code",
   "execution_count": 15,
   "id": "f68cdf86",
   "metadata": {},
   "outputs": [
    {
     "data": {
      "text/html": [
       "<div>\n",
       "<style scoped>\n",
       "    .dataframe tbody tr th:only-of-type {\n",
       "        vertical-align: middle;\n",
       "    }\n",
       "\n",
       "    .dataframe tbody tr th {\n",
       "        vertical-align: top;\n",
       "    }\n",
       "\n",
       "    .dataframe thead th {\n",
       "        text-align: right;\n",
       "    }\n",
       "</style>\n",
       "<table border=\"1\" class=\"dataframe\">\n",
       "  <thead>\n",
       "    <tr style=\"text-align: right;\">\n",
       "      <th></th>\n",
       "      <th>State</th>\n",
       "      <th>Month</th>\n",
       "      <th>Depression</th>\n",
       "      <th>Anxiety</th>\n",
       "      <th>Vaccine Refusal</th>\n",
       "      <th>Fully Vaccinated</th>\n",
       "      <th>Interaction</th>\n",
       "    </tr>\n",
       "  </thead>\n",
       "  <tbody>\n",
       "    <tr>\n",
       "      <th>0</th>\n",
       "      <td>Alabama</td>\n",
       "      <td>Apr 22 - May 29</td>\n",
       "      <td>27.3</td>\n",
       "      <td>28.1</td>\n",
       "      <td>28.0</td>\n",
       "      <td>39.7</td>\n",
       "      <td>1111.60</td>\n",
       "    </tr>\n",
       "    <tr>\n",
       "      <th>1</th>\n",
       "      <td>Alabama</td>\n",
       "      <td>Apr 22 - May 29</td>\n",
       "      <td>27.3</td>\n",
       "      <td>23.8</td>\n",
       "      <td>28.0</td>\n",
       "      <td>39.7</td>\n",
       "      <td>1111.60</td>\n",
       "    </tr>\n",
       "    <tr>\n",
       "      <th>2</th>\n",
       "      <td>Alaska</td>\n",
       "      <td>Apr 22 - May 29</td>\n",
       "      <td>24.4</td>\n",
       "      <td>29.7</td>\n",
       "      <td>25.1</td>\n",
       "      <td>53.1</td>\n",
       "      <td>1332.81</td>\n",
       "    </tr>\n",
       "    <tr>\n",
       "      <th>3</th>\n",
       "      <td>Alaska</td>\n",
       "      <td>Apr 22 - May 29</td>\n",
       "      <td>24.4</td>\n",
       "      <td>23.5</td>\n",
       "      <td>25.1</td>\n",
       "      <td>53.1</td>\n",
       "      <td>1332.81</td>\n",
       "    </tr>\n",
       "    <tr>\n",
       "      <th>4</th>\n",
       "      <td>Arizona</td>\n",
       "      <td>Apr 22 - May 29</td>\n",
       "      <td>20.4</td>\n",
       "      <td>25.8</td>\n",
       "      <td>19.8</td>\n",
       "      <td>49.7</td>\n",
       "      <td>984.06</td>\n",
       "    </tr>\n",
       "  </tbody>\n",
       "</table>\n",
       "</div>"
      ],
      "text/plain": [
       "     State            Month  Depression  Anxiety  Vaccine Refusal  \\\n",
       "0  Alabama  Apr 22 - May 29        27.3     28.1             28.0   \n",
       "1  Alabama  Apr 22 - May 29        27.3     23.8             28.0   \n",
       "2   Alaska  Apr 22 - May 29        24.4     29.7             25.1   \n",
       "3   Alaska  Apr 22 - May 29        24.4     23.5             25.1   \n",
       "4  Arizona  Apr 22 - May 29        20.4     25.8             19.8   \n",
       "\n",
       "   Fully Vaccinated  Interaction  \n",
       "0              39.7      1111.60  \n",
       "1              39.7      1111.60  \n",
       "2              53.1      1332.81  \n",
       "3              53.1      1332.81  \n",
       "4              49.7       984.06  "
      ]
     },
     "execution_count": 15,
     "metadata": {},
     "output_type": "execute_result"
    }
   ],
   "source": [
    "pro_vacc = states_imm.loc[states_imm['Indicator Category'] == 'Fully vaccinated with 1 or 2 doses']\n",
    "new_vacc = pd.merge(trimmed,pro_vacc, how = 'left', left_on = ['State','Month'], right_on = ['Geography', 'Time Period'])\n",
    "new_vacc = new_vacc[['State','Month','Depression','Anxiety','Vaccine Refusal','Estimate (%)']]\n",
    "new_vacc.set_axis(['State','Month','Depression','Anxiety','Vaccine Refusal','Fully Vaccinated'],axis = 1, inplace = True)\n",
    "new_vacc['Interaction'] = new_vacc['Vaccine Refusal'] * new_vacc['Fully Vaccinated']\n",
    "new_vacc.head()"
   ]
  },
  {
   "cell_type": "code",
   "execution_count": 16,
   "id": "723e56ea",
   "metadata": {},
   "outputs": [
    {
     "name": "stdout",
     "output_type": "stream",
     "text": [
      "Intercept:  [25.40320866]\n",
      "Coefficients: [[ 0.04000572 -0.06442324 -0.00125009]]\n"
     ]
    }
   ],
   "source": [
    "x = new_vacc[[\"Vaccine Refusal\",\"Fully Vaccinated\",\"Interaction\"]]\n",
    "y = new_vacc[[\"Depression\"]]\n",
    "vax_train, vax_test, dep_train, dep_test = train_test_split(x, y)\n",
    "regressor = LinearRegression()\n",
    "regressor.fit(vax_train, dep_train)\n",
    "print(\"Intercept: \", regressor.intercept_)\n",
    "print(\"Coefficients:\",regressor.coef_)"
   ]
  },
  {
   "cell_type": "code",
   "execution_count": 17,
   "id": "f3e3dc34",
   "metadata": {},
   "outputs": [
    {
     "name": "stdout",
     "output_type": "stream",
     "text": [
      "Training data Root Mean Squared Error: 3.2560\n",
      "Test data Root Mean Squared Error: 3.3544\n"
     ]
    }
   ],
   "source": [
    "prediction = regressor.predict(vax_train)\n",
    "err = np.sqrt(metrics.mean_squared_error(dep_train, prediction))\n",
    "print(\"Training data Root Mean Squared Error: %.4f\" % err)\n",
    "prediction = regressor.predict(vax_test)\n",
    "err = np.sqrt(metrics.mean_squared_error(dep_test, prediction))\n",
    "print(\"Test data Root Mean Squared Error: %.4f\" % err)"
   ]
  },
  {
   "cell_type": "markdown",
   "id": "351b28f9",
   "metadata": {},
   "source": [
    "The RMSEs have similar values, so we didn't overfit, that's a good sign. Unfortunately, the coefficients are still very small, so it looks like this avenue of inquiry is going nowhere. \n",
    "\n",
    "Regardless, I will explain what we tried to do, even if the experiment didn't have interesting results in the end.\n",
    "Multiple Regression is an application of machine learning principles, but one of the most simple examples.\n",
    "We feed our regressor both the independent and dependent variables for a portion of the data. Gradually, the coefficients and the intercept will mutate in response to the loss function (how wrong the algorithm's guesses at the dependent variable's value is). It can easily run the training set thousands of times until a \"good enough\" set of coefficients is found, which is when the error of the training set is found to be at acceptable levels or the alloted number of epochs is reached.\n",
    "\n",
    "The other loose end is the \"Interaction\" item there. It is very simply the product of the two other fields. It didn't do much good here, but when there are independent variables that also have noticable relationships with other independent variables, you can frequently get very interesting results from it.\n",
    "\n",
    "Our regressor found coefficients that worked well enough, but they were effectively zero. This again, indicates that any present correlations are weak. Suppose not everything can lead to a world-changing paper. Unfortunate.\n",
    "\n",
    "Let's shift gears a little bit."
   ]
  },
  {
   "cell_type": "code",
   "execution_count": 18,
   "id": "de745374",
   "metadata": {},
   "outputs": [
    {
     "data": {
      "text/plain": [
       "<AxesSubplot:xlabel='Time Period Start Date'>"
      ]
     },
     "execution_count": 18,
     "metadata": {},
     "output_type": "execute_result"
    },
    {
     "data": {
      "image/png": "[encoded data removed]",
      "text/plain": [
       "<Figure size 720x504 with 1 Axes>"
      ]
     },
     "metadata": {
      "needs_background": "light"
     },
     "output_type": "display_data"
    },
    {
     "data": {
      "image/png": "[encoded data removed]",
      "text/plain": [
       "<Figure size 720x504 with 1 Axes>"
      ]
     },
     "metadata": {
      "needs_background": "light"
     },
     "output_type": "display_data"
    },
    {
     "data": {
      "image/png": "[encoded data removed]",
      "text/plain": [
       "<Figure size 720x504 with 1 Axes>"
      ]
     },
     "metadata": {
      "needs_background": "light"
     },
     "output_type": "display_data"
    }
   ],
   "source": [
    "deporanx = rawhealth.loc[rawhealth['Indicator']=='Symptoms of Anxiety Disorder or Depressive Disorder']\n",
    "deporanx.loc[rawhealth['Subgroup']=='18 - 29 years'].plot(x = 'Time Period Start Date', y = 'Value', figsize = (10,7))\n",
    "deporanx.loc[rawhealth['Subgroup']=='30 - 39 years'].plot(x = 'Time Period Start Date', y = 'Value', figsize = (10,7))\n",
    "deporanx.loc[rawhealth['Subgroup']=='40 - 49 years'].plot(x = 'Time Period Start Date', y = 'Value', figsize = (10,7))"
   ]
  },
  {
   "cell_type": "markdown",
   "id": "36552a10",
   "metadata": {},
   "source": [
    "Here's three plots of three different age groups. This is the estimated mean for everybody in these age groups, across the entire country, since the beginning of the pandemic.\n",
    "Notice that at the peak, a little over a year ago, about half of everyone in this group was \"not having a good time,\" to understate the symptoms of mental illness.\n",
    "Then it dropped by a substantial amount, but it's still nowhere near what it should be:\n",
    "\n",
    "\n",
    "The mean for adults before the pandemic was 8.1%.\n",
    "\n",
    "\n",
    "In a time when people were mostly worried about their corporeal forms being ravaged by a deadly respiratory illness, this problem appeared and then never left, with very few people even noticing.\n",
    "I can't say I know exactly what to do. Anyone who says *they* do is probably lying.\n",
    "But maybe we can work together to get a little closer to the truth."
   ]
  },
  {
   "cell_type": "code",
   "execution_count": null,
   "id": "0f731e24",
   "metadata": {},
   "outputs": [],
   "source": []
  }
 ],
 "metadata": {
  "kernelspec": {
   "display_name": "Python 3 (ipykernel)",
   "language": "python",
   "name": "python3"
  },
  "language_info": {
   "codemirror_mode": {
    "name": "ipython",
    "version": 3
   },
   "file_extension": ".py",
   "mimetype": "text/x-python",
   "name": "python",
   "nbconvert_exporter": "python",
   "pygments_lexer": "ipython3",
   "version": "3.9.7"
  }
 },
 "nbformat": 4,
 "nbformat_minor": 5
}
